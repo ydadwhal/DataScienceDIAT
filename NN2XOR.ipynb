{
  "nbformat": 4,
  "nbformat_minor": 0,
  "metadata": {
    "colab": {
      "provenance": [],
      "authorship_tag": "ABX9TyMH/RbudQMgMrSYxvt1L0Mq",
      "include_colab_link": true
    },
    "kernelspec": {
      "name": "python3",
      "display_name": "Python 3"
    },
    "language_info": {
      "name": "python"
    }
  },
  "cells": [
    {
      "cell_type": "markdown",
      "metadata": {
        "id": "view-in-github",
        "colab_type": "text"
      },
      "source": [
        "<a href=\"https://colab.research.google.com/github/ydadwhal/DataScienceDIAT/blob/main/NN2XOR.ipynb\" target=\"_parent\"><img src=\"https://colab.research.google.com/assets/colab-badge.svg\" alt=\"Open In Colab\"/></a>"
      ]
    },
    {
      "cell_type": "code",
      "execution_count": 1,
      "metadata": {
        "id": "QGnlf4jSuCXD"
      },
      "outputs": [],
      "source": [
        "import autograd.numpy as np\n",
        "import matplotlib.pyplot as plt\n",
        "%matplotlib inline"
      ]
    },
    {
      "cell_type": "code",
      "source": [
        "X = np.array([[0, 0],\n",
        "             [0, 1],\n",
        "             [1, 0],\n",
        "             [1, 1]\n",
        "             ])\n",
        "\n",
        "y = np.array([[0], [1], [1], [0]])"
      ],
      "metadata": {
        "id": "yWuGNUe1uId0"
      },
      "execution_count": 2,
      "outputs": []
    },
    {
      "cell_type": "code",
      "source": [
        "X.shape, y.shape"
      ],
      "metadata": {
        "colab": {
          "base_uri": "https://localhost:8080/"
        },
        "id": "nJXS9vUbuKer",
        "outputId": "d3e3f4c1-6293-44b9-81eb-de54510bdd0c"
      },
      "execution_count": 3,
      "outputs": [
        {
          "output_type": "execute_result",
          "data": {
            "text/plain": [
              "((4, 2), (4, 1))"
            ]
          },
          "metadata": {},
          "execution_count": 3
        }
      ]
    },
    {
      "cell_type": "code",
      "source": [
        "N, N_0 = X.shape\n",
        "N, N_2 = y.shape\n",
        "N_1 = 2"
      ],
      "metadata": {
        "id": "BzeeWIicuN1r"
      },
      "execution_count": 4,
      "outputs": []
    },
    {
      "cell_type": "code",
      "source": [
        "W = [np.array([0]), np.array([[1, 1], [1, 1]]), np.array([[1, -2]])]\n",
        "\n",
        "b = [np.array([0]), np.array([[0], [-1]]), np.array([[0]])]\n",
        "B = []"
      ],
      "metadata": {
        "id": "N8S0sf-QuPqL"
      },
      "execution_count": 5,
      "outputs": []
    },
    {
      "cell_type": "code",
      "source": [
        "A = [X]\n",
        "A.extend([None]*(len(W)-1))\n",
        "Z = [None]*(len(W))"
      ],
      "metadata": {
        "id": "BUQZuIJ_ub5a"
      },
      "execution_count": 6,
      "outputs": []
    },
    {
      "cell_type": "code",
      "source": [
        "def relu(z):\n",
        "    temp = z.copy()\n",
        "    temp[temp<0] = 0\n",
        "    return temp\n",
        "\n",
        "def sigmoid(z):\n",
        "    return 1./(1+np.exp(-z))"
      ],
      "metadata": {
        "id": "kpTzCjXHue8S"
      },
      "execution_count": 7,
      "outputs": []
    },
    {
      "cell_type": "code",
      "source": [
        "for i in range(1, len(W)):\n",
        "    Z[i] = A[i-1]@(W[i].T) + b[i].T\n",
        "    A[i] =relu(Z[i])"
      ],
      "metadata": {
        "id": "SqmObxM_uiK6"
      },
      "execution_count": 8,
      "outputs": []
    },
    {
      "cell_type": "code",
      "source": [
        "A[2]==y"
      ],
      "metadata": {
        "colab": {
          "base_uri": "https://localhost:8080/"
        },
        "id": "Qqo-Ft3oulFi",
        "outputId": "8978dcdf-59a8-4e8f-b06f-29d2a6c12cad"
      },
      "execution_count": 9,
      "outputs": [
        {
          "output_type": "execute_result",
          "data": {
            "text/plain": [
              "array([[ True],\n",
              "       [ True],\n",
              "       [ True],\n",
              "       [ True]])"
            ]
          },
          "metadata": {},
          "execution_count": 9
        }
      ]
    },
    {
      "cell_type": "code",
      "source": [],
      "metadata": {
        "id": "fIXn2LGVuvSr"
      },
      "execution_count": null,
      "outputs": []
    }
  ]
}