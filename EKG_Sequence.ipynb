{
  "nbformat": 4,
  "nbformat_minor": 0,
  "metadata": {
    "colab": {
      "provenance": [],
      "authorship_tag": "ABX9TyNrLYsdR74ziVKnbAm6y8JF",
      "include_colab_link": true
    },
    "kernelspec": {
      "name": "python3",
      "display_name": "Python 3"
    },
    "language_info": {
      "name": "python"
    }
  },
  "cells": [
    {
      "cell_type": "markdown",
      "metadata": {
        "id": "view-in-github",
        "colab_type": "text"
      },
      "source": [
        "<a href=\"https://colab.research.google.com/github/ydadwhal/DataScienceDIAT/blob/main/EKG_Sequence.ipynb\" target=\"_parent\"><img src=\"https://colab.research.google.com/assets/colab-badge.svg\" alt=\"Open In Colab\"/></a>"
      ]
    },
    {
      "cell_type": "code",
      "execution_count": 2,
      "metadata": {
        "colab": {
          "base_uri": "https://localhost:8080/"
        },
        "id": "ZXgCo5TwBszg",
        "outputId": "7d9941c8-aa97-4bd7-92a7-608b6c66b811"
      },
      "outputs": [
        {
          "name": "stdout",
          "output_type": "stream",
          "text": [
            "Enter a number less than 100 in the EKG sequence5\n"
          ]
        }
      ],
      "source": [
        "n=int(input(\"Enter a number less than 100 in the EKG sequence\"))\n",
        "list1=[x+1 for x in range(2,600)]\n"
      ]
    },
    {
      "cell_type": "code",
      "source": [
        "def gcd(num1,num2):\n",
        "  gcd = 1\n",
        "  for i in range(1, min(num1, num2)+1):\n",
        "    if num1 % i == 0 and num2 % i == 0:\n",
        "      gcd = i\n",
        "  return gcd"
      ],
      "metadata": {
        "id": "_lera6qBBxL6"
      },
      "execution_count": 3,
      "outputs": []
    },
    {
      "cell_type": "code",
      "source": [
        "\n",
        "seq=[1,2]\n",
        "while len(list1)>0:\n",
        "  for i in list1:\n",
        "\n",
        "    if gcd(i,seq[-1])>1:\n",
        "      seq.append(i)\n",
        "      list1.remove(i)\n",
        "      break\n",
        "  if n==seq[-1]:\n",
        "    break"
      ],
      "metadata": {
        "id": "f-zAo_PqBvd0"
      },
      "execution_count": 5,
      "outputs": []
    },
    {
      "cell_type": "code",
      "source": [
        "print(\"ecg seqencce index (\",n,\")\", len(seq)-1) # is the index\n",
        "print(seq)"
      ],
      "metadata": {
        "colab": {
          "base_uri": "https://localhost:8080/"
        },
        "id": "iej7PrvNB39X",
        "outputId": "6ec02443-e273-40f6-99bc-3af66dd91130"
      },
      "execution_count": 6,
      "outputs": [
        {
          "output_type": "stream",
          "name": "stdout",
          "text": [
            "ecg seqencce index ( 5 ) 8\n",
            "[1, 2, 6, 3, 9, 12, 8, 10, 5]\n"
          ]
        }
      ]
    }
  ]
}